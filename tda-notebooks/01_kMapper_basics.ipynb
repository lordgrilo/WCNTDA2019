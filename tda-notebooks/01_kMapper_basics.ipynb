{
 "cells": [
  {
   "cell_type": "markdown",
   "metadata": {},
   "source": [
    "# kMapper basics"
   ]
  },
  {
   "cell_type": "code",
   "execution_count": 1,
   "metadata": {},
   "outputs": [
    {
     "data": {
      "text/html": [
       "<style>\n",
       "    .container { width:100% !important; }\n",
       "    .output_scroll {height: 800px !important;}\n",
       "    </style>"
      ],
      "text/plain": [
       "<IPython.core.display.HTML object>"
      ]
     },
     "metadata": {},
     "output_type": "display_data"
    }
   ],
   "source": [
    "import kmapper as km\n",
    "from kmapper import jupyter # Creates custom CSS full-size Jupyter screen"
   ]
  },
  {
   "cell_type": "code",
   "execution_count": 2,
   "metadata": {},
   "outputs": [],
   "source": [
    "# Import the class\n",
    "import kmapper as km\n",
    "\n",
    "# Some sample data\n",
    "from sklearn import datasets\n",
    "data, labels = datasets.make_circles(n_samples=5000, noise=0.03, factor=0.3)"
   ]
  },
  {
   "cell_type": "code",
   "execution_count": 5,
   "metadata": {},
   "outputs": [
    {
     "data": {
      "image/png": "[encoded data removed]",
      "text/plain": [
       "<Figure size 432x288 with 1 Axes>"
      ]
     },
     "metadata": {
      "needs_background": "light"
     },
     "output_type": "display_data"
    }
   ],
   "source": [
    "import matplotlib.pyplot as plt\n",
    "plt.scatter(data[:,0], data[:,1])\n",
    "plt.show()"
   ]
  },
  {
   "cell_type": "code",
   "execution_count": 6,
   "metadata": {},
   "outputs": [
    {
     "name": "stdout",
     "output_type": "stream",
     "text": [
      "KeplerMapper()\n",
      "..Composing projection pipeline of length 1:\n",
      "\tProjections: [0, 1]\n",
      "\tDistance matrices: False\n",
      "\tScalers: MinMaxScaler(copy=True, feature_range=(0, 1))\n",
      "..Projecting on data shaped (5000, 2)\n",
      "\n",
      "..Projecting data using: [0, 1]\n",
      "\n",
      "..Scaling with: MinMaxScaler(copy=True, feature_range=(0, 1))\n",
      "\n",
      "Mapping on data shaped (5000, 2) using lens shaped (5000, 2)\n",
      "\n",
      "Creating 100 hypercubes.\n",
      "\n",
      "Created 88 edges and 58 nodes in 0:00:00.260749.\n",
      "Wrote visualization to: make_circles_keplermapper_output.html\n"
     ]
    },
    {
     "data": {
      "text/html": [
       "<iframe src=make_circles_keplermapper_output.html width=100%% height=800 frameBorder=\"0\"></iframe>"
      ],
      "text/plain": [
       "<IPython.core.display.HTML object>"
      ]
     },
     "metadata": {},
     "output_type": "display_data"
    }
   ],
   "source": [
    "# Initialize\n",
    "mapper = km.KeplerMapper(verbose=1)\n",
    "\n",
    "# Fit to and transform the data\n",
    "projected_data = mapper.fit_transform(data, projection=[0,1]) # X-Y axis\n",
    "\n",
    "# Create dictionary called 'graph' with nodes, edges and meta-information\n",
    "graph = mapper.map(projected_data, data, nr_cubes=10)\n",
    "\n",
    "# Visualize it\n",
    "html = mapper.visualize(graph, path_html=\"make_circles_keplermapper_output.html\",\n",
    "                 title=\"make_circles(n_samples=5000, noise=0.03, factor=0.3)\")\n",
    "\n",
    "# Inline display\n",
    "# jupyter.display(path_html=\"http://mlwave.github.io/tda/word2vec-gender-bias.html\")\n",
    "jupyter.display(path_html=\"make_circles_keplermapper_output.html\")"
   ]
  },
  {
   "cell_type": "code",
   "execution_count": null,
   "metadata": {},
   "outputs": [],
   "source": []
  }
 ],
 "metadata": {
  "kernelspec": {
   "display_name": "Python 3",
   "language": "python",
   "name": "python3"
  },
  "language_info": {
   "codemirror_mode": {
    "name": "ipython",
    "version": 3
   },
   "file_extension": ".py",
   "mimetype": "text/x-python",
   "name": "python",
   "nbconvert_exporter": "python",
   "pygments_lexer": "ipython3",
   "version": "3.7.3"
  }
 },
 "nbformat": 4,
 "nbformat_minor": 2
}
