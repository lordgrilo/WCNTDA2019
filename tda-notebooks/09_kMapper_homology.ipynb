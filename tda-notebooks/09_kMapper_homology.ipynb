{
 "cells": [
  {
   "cell_type": "code",
   "execution_count": null,
   "metadata": {},
   "outputs": [],
   "source": [
    "import numpy as np \n",
    "from sklearn import datasets\n",
    "import matplotlib.pyplot as plt\n",
    "import os, sys"
   ]
  },
  {
   "cell_type": "code",
   "execution_count": null,
   "metadata": {},
   "outputs": [],
   "source": [
    "import kmapper as km\n",
    "from kmapper.plotlyviz import *\n",
    "import sklearn\n",
    "\n",
    "import warnings\n",
    "warnings.filterwarnings(\"ignore\")"
   ]
  },
  {
   "cell_type": "code",
   "execution_count": null,
   "metadata": {},
   "outputs": [],
   "source": [
    "data_dir = '../data/corr-mats/TimeSeriesAAL/'\n",
    "\n",
    "fs = os.listdir(data_dir)\n",
    "ts_data = {}\n",
    "subs = []\n",
    "for f in fs:\n",
    "    sub = f.split('_')[1]\n",
    "    subs.append(sub)\n",
    "    test = int(f.split('_')[3][-1]);\n",
    "    if sub not in ts_data:\n",
    "        ts_data[sub] = {}\n",
    "    ts_data[sub][test] = np.loadtxt(data_dir+f)"
   ]
  },
  {
   "cell_type": "code",
   "execution_count": null,
   "metadata": {},
   "outputs": [],
   "source": [
    "kms = {}\n",
    "for sub in subs:\n",
    "    X = np.array(ts_data[sub][0])\n",
    "    # Create another 2-D lens with UMAP\n",
    "    mapper = km.KeplerMapper(verbose=0)\n",
    "    import umap\n",
    "    lens = mapper.fit_transform(X, projection=umap.UMAP(n_neighbors=15,\n",
    "                                                        min_dist=0.3,\n",
    "                                                        n_components=2,\n",
    "                                                        metric='correlation',\n",
    "                                                        random_state=3571))\n",
    "\n",
    "    # Define the simplicial complex\n",
    "    kms[sub] = mapper.map(lens,X,\n",
    "                          nr_cubes=15,\n",
    "                          overlap_perc=0.7,\n",
    "                          clusterer=sklearn.cluster.KMeans(n_clusters=2,\n",
    "                                                           random_state=3471))\n",
    "\n"
   ]
  },
  {
   "cell_type": "code",
   "execution_count": null,
   "metadata": {},
   "outputs": [],
   "source": [
    "def mapper_weighting(g):\n",
    "    import networkx as nx\n",
    "    gg = g.copy();\n",
    "    w = {}\n",
    "    mem_dict = nx.get_node_attributes(g, 'membership')\n",
    "    for edge in g.edges():\n",
    "         w[edge] = len(set(mem_dict[edge[0]]).intersection(set(mem_dict[edge[1]])))\n",
    "    nx.set_edge_attributes(gg,w,'weight');\n",
    "    return gg;"
   ]
  },
  {
   "cell_type": "code",
   "execution_count": null,
   "metadata": {},
   "outputs": [],
   "source": [
    "gs = {}\n",
    "wgs = {}\n",
    "for sub in subs:\n",
    "    gs[sub] = km.to_networkx(kms[sub]);\n",
    "    wgs[sub] = mapper_weighting(gs[sub])\n",
    "    wgs[sub] = nx.relabel_nodes(wgs[sub], dict(zip(wgs[sub].nodes(), range(wgs[sub].number_of_nodes()))))"
   ]
  },
  {
   "cell_type": "code",
   "execution_count": null,
   "metadata": {},
   "outputs": [],
   "source": [
    "def weight_based_filtration(g, min_weight=None):\n",
    "    import networkx as nx \n",
    "    import dionysus as dio\n",
    "    w = nx.get_edge_attributes(g,'weight');\n",
    "    ww = [(k, w[k]) for k in sorted(w, key=w.get, reverse=True)]\n",
    "    if min_weight==None:\n",
    "        min_weight = ww[-1][1];\n",
    "    gg = nx.Graph();\n",
    "    gg.add_nodes_from(g.nodes());\n",
    "    CD = dio.Filtration()\n",
    "    index = 0\n",
    "    for n in g.nodes():\n",
    "        CD.append(dio.Simplex([n],index))\n",
    "\n",
    "    for k, v in ww:\n",
    "        gg.add_edge(k[0],k[1]);\n",
    "        cliques = nx.find_cliques(gg);\n",
    "        for clique in cliques:\n",
    "            if len(clique)>3:\n",
    "                new_simplices = dio.closure([dio.Simplex(clique)], len(clique));\n",
    "                for simp in new_simplices:\n",
    "                    if dio.Simplex(simp) not in CD:\n",
    "                        CD.append(dio.Simplex(simp,index));\n",
    "            elif len(clique)==2:\n",
    "                CD.append(dio.Simplex(clique,index))\n",
    "        index+=1; \n",
    "        if v==min_weight:\n",
    "            break;\n",
    "    return CD, index;\n",
    "    "
   ]
  },
  {
   "cell_type": "code",
   "execution_count": null,
   "metadata": {},
   "outputs": [],
   "source": [
    "fils = {}\n",
    "for sub in wgs:\n",
    "    print(sub)\n",
    "    fils[sub]= weight_based_filtration(wgs[sub],1);"
   ]
  },
  {
   "cell_type": "code",
   "execution_count": null,
   "metadata": {},
   "outputs": [],
   "source": [
    "import dionysus as dio\n",
    "homs = {};\n",
    "dgms = {}\n",
    "for sub in fils:\n",
    "    homs[sub] = dio.homology_persistence(fils[sub][0])\n",
    "    dgms[sub] = dio.init_diagrams(homs[sub], fils[sub][0])\n",
    "    \n",
    "    "
   ]
  },
  {
   "cell_type": "code",
   "execution_count": null,
   "metadata": {},
   "outputs": [],
   "source": [
    "new_diag = {}\n",
    "\n",
    "\n",
    "for sub in dgms:\n",
    "    new_diag[sub] = {}\n",
    "    dim = 0\n",
    "    for dgm in dgms[sub]:\n",
    "        new_diag[sub][dim] = []\n",
    "        for el in dgm:\n",
    "            new_el = [el.birth, el.death]\n",
    "            if new_el[1] == np.inf:\n",
    "                new_el[1] = fils[sub][1]\n",
    "        new_diag[sub][dim].append(new_el);\n",
    "        dim+=1\n"
   ]
  },
  {
   "cell_type": "code",
   "execution_count": null,
   "metadata": {},
   "outputs": [],
   "source": [
    "import persim\n",
    "\n",
    "dim = 1\n",
    "deh = np.zeros((len(dgms), len(dgms)));\n",
    "for i, f in enumerate(dgms.keys()):\n",
    "    for j, ff in enumerate(dgms.keys()):\n",
    "        if len(new_diag[f])>=1 and len(new_diag[ff])>=1:\n",
    "            deh[i,j] = persim.sliced_wasserstein(np.array(new_diag[f][dim]),np.array(new_diag[ff][dim]),10)\n"
   ]
  },
  {
   "cell_type": "code",
   "execution_count": null,
   "metadata": {},
   "outputs": [],
   "source": [
    "plt.imshow(deh)\n",
    "plt.colorbar()"
   ]
  },
  {
   "cell_type": "code",
   "execution_count": null,
   "metadata": {},
   "outputs": [],
   "source": [
    "%pylab inline\n",
    "import matplotlib.pyplot as plt\n",
    "plt.imshow(deh)"
   ]
  },
  {
   "cell_type": "code",
   "execution_count": null,
   "metadata": {},
   "outputs": [],
   "source": []
  }
 ],
 "metadata": {
  "kernelspec": {
   "display_name": "Python 3",
   "language": "python",
   "name": "python3"
  },
  "language_info": {
   "codemirror_mode": {
    "name": "ipython",
    "version": 3
   },
   "file_extension": ".py",
   "mimetype": "text/x-python",
   "name": "python",
   "nbconvert_exporter": "python",
   "pygments_lexer": "ipython3",
   "version": "3.6.6"
  }
 },
 "nbformat": 4,
 "nbformat_minor": 2
}
