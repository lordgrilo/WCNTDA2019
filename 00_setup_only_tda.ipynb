{
 "cells": [
  {
   "cell_type": "markdown",
   "metadata": {},
   "source": [
    "# TDA libraries"
   ]
  },
  {
   "cell_type": "code",
   "execution_count": null,
   "metadata": {},
   "outputs": [],
   "source": [
    "!conda install plotly -y"
   ]
  },
  {
   "cell_type": "code",
   "execution_count": null,
   "metadata": {},
   "outputs": [],
   "source": [
    "!conda install -c conda-forge xgboost -y\n",
    "# if conda doesn't find xgboost,  use:\n",
    "# pip install xgboost \n",
    "# troubleshooting here: https://xgboost.readthedocs.io/en/latest/build.html"
   ]
  },
  {
   "cell_type": "markdown",
   "metadata": {},
   "source": [
    "Requirements for compiling the bits below are:\n",
    "- **cmake**\n",
    "    - (on Linux) sudo apt-get install cmake\n",
    "    - (on OSX, requires [Homebrew](https://brew.sh)) brew install cmake\n",
    "    - (on Windows) download binary from https://cmake.org/download/ and follow installation instructions;\n",
    "- **Boost**\n",
    "    - (on Linux) apt-get install libboost-all-dev\n",
    "    - (on OSX, requires [Homebrew](https://brew.sh)) brew install boost\n",
    "    - (on Windows) download the latest Boost library (from example [here](https://www.boost.org/users/history/version_1_55_0.html)):\n",
    "        - To compile anything in Boost, you need a directory containing the boost\\ subdirectory in your #include path. Further instructions can be found [here](https://www.boost.org/doc/libs/1_55_0/more/getting_started/windows.html).\n",
    "        - if you are using GCC, [here](https://gist.github.com/sim642/29caef3cc8afaa273ce6) you can find further instructions about Boost for GCC. "
   ]
  },
  {
   "cell_type": "code",
   "execution_count": null,
   "metadata": {},
   "outputs": [],
   "source": [
    "!pip install msgpack scikit-tda\n",
    "# github here: https://scikit-tda.org"
   ]
  },
  {
   "cell_type": "code",
   "execution_count": null,
   "metadata": {},
   "outputs": [],
   "source": [
    "!pip install dionysus\n",
    "#troubleshooting here: http://mrzv.org/software/dionysus2/"
   ]
  }
 ],
 "metadata": {
  "kernelspec": {
   "display_name": "Python 3",
   "language": "python",
   "name": "python3"
  },
  "language_info": {
   "codemirror_mode": {
    "name": "ipython",
    "version": 3
   },
   "file_extension": ".py",
   "mimetype": "text/x-python",
   "name": "python",
   "nbconvert_exporter": "python",
   "pygments_lexer": "ipython3",
   "version": "3.6.6"
  }
 },
 "nbformat": 4,
 "nbformat_minor": 2
}
