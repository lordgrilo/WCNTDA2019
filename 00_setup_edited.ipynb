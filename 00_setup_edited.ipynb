{
 "cells": [
  {
   "cell_type": "markdown",
   "metadata": {},
   "source": [
    "# MACHINE LEARNING\n",
    "\n",
    "#### Alan Perotti, André Panisson  [ISI Foundation]"
   ]
  },
  {
   "cell_type": "markdown",
   "metadata": {},
   "source": [
    "### Deep Learning Libraries"
   ]
  },
  {
   "cell_type": "code",
   "execution_count": 1,
   "metadata": {},
   "outputs": [
    {
     "name": "stdout",
     "output_type": "stream",
     "text": [
      "Populating the interactive namespace from numpy and matplotlib\n"
     ]
    }
   ],
   "source": [
    "import warnings\n",
    "warnings.filterwarnings('ignore')\n",
    "%pylab inline"
   ]
  },
  {
   "cell_type": "code",
   "execution_count": 2,
   "metadata": {},
   "outputs": [
    {
     "name": "stdout",
     "output_type": "stream",
     "text": [
      "Solving environment: done\n",
      "\n",
      "# All requested packages already installed.\n",
      "\n"
     ]
    }
   ],
   "source": [
    "#For Windows users: if this gets stuck, run \"conda install tensorflow=1.12 -y\" from a shell\n",
    "!conda install tensorflow=1.12 -y"
   ]
  },
  {
   "cell_type": "code",
   "execution_count": 3,
   "metadata": {},
   "outputs": [
    {
     "name": "stdout",
     "output_type": "stream",
     "text": [
      "Solving environment: done\n",
      "\n",
      "# All requested packages already installed.\n",
      "\n"
     ]
    }
   ],
   "source": [
    "#For Windows users: if this gets stuck, run \"conda install keras=2.2.4 -y\" from a shell\n",
    "!conda install keras=2.2.4 -y"
   ]
  },
  {
   "cell_type": "markdown",
   "metadata": {},
   "source": [
    "### Datasets"
   ]
  },
  {
   "cell_type": "code",
   "execution_count": 4,
   "metadata": {},
   "outputs": [
    {
     "name": "stdout",
     "output_type": "stream",
     "text": [
      "2.2.4\n",
      "1.12.0\n"
     ]
    },
    {
     "name": "stderr",
     "output_type": "stream",
     "text": [
      "Using TensorFlow backend.\n"
     ]
    }
   ],
   "source": [
    "import tensorflow as tf\n",
    "import keras\n",
    "print(keras.__version__)\n",
    "print(tf.__version__)"
   ]
  },
  {
   "cell_type": "code",
   "execution_count": 5,
   "metadata": {},
   "outputs": [],
   "source": [
    "from keras.datasets import mnist, cifar10"
   ]
  },
  {
   "cell_type": "code",
   "execution_count": 6,
   "metadata": {},
   "outputs": [],
   "source": [
    "mnist.load_data();\n",
    "cifar10.load_data();"
   ]
  },
  {
   "cell_type": "code",
   "execution_count": 7,
   "metadata": {},
   "outputs": [],
   "source": [
    "from keras.applications import inception_v3"
   ]
  },
  {
   "cell_type": "code",
   "execution_count": 8,
   "metadata": {},
   "outputs": [],
   "source": [
    "inception_v3.InceptionV3(include_top=True, weights='imagenet');\n",
    "inception_v3.InceptionV3(include_top=False, weights='imagenet');"
   ]
  },
  {
   "cell_type": "code",
   "execution_count": 9,
   "metadata": {},
   "outputs": [],
   "source": [
    "inception_v3.decode_predictions(np.zeros((1,1000)));"
   ]
  },
  {
   "cell_type": "markdown",
   "metadata": {},
   "source": [
    "# TDA libraries"
   ]
  },
  {
   "cell_type": "code",
   "execution_count": null,
   "metadata": {},
   "outputs": [],
   "source": [
    "!conda install plotly -y"
   ]
  },
  {
   "cell_type": "code",
   "execution_count": null,
   "metadata": {},
   "outputs": [],
   "source": [
    "!conda install -c conda-forge xgboost -y\n",
    "# if conda doesn't find xgboost,  use:\n",
    "# pip install xgboost \n",
    "# troubleshooting here: https://xgboost.readthedocs.io/en/latest/build.html"
   ]
  },
  {
   "cell_type": "markdown",
   "metadata": {},
   "source": [
    "Requirements for compiling the bits below are:\n",
    "- **cmake**\n",
    "    - (on Linux) sudo apt-get install cmake\n",
    "    - (on OSX, requires [Homebrew](https://brew.sh)) brew install cmake\n",
    "    - (on Windows) download binary from https://cmake.org/download/ and follow installation instructions;\n",
    "- **Boost**\n",
    "    - (on Linux) apt-get install libboost-all-dev\n",
    "    - (on OSX, requires [Homebrew](https://brew.sh)) brew install boost\n",
    "    - (on Windows) download the latest Boost library (from example [here](https://www.boost.org/users/history/version_1_55_0.html)):\n",
    "        - To compile anything in Boost, you need a directory containing the boost\\ subdirectory in your #include path. Further instructions can be found [here](https://www.boost.org/doc/libs/1_55_0/more/getting_started/windows.html).\n",
    "        - if you are using GCC, [here](https://gist.github.com/sim642/29caef3cc8afaa273ce6) you can find further instructions about Boost for GCC. "
   ]
  },
  {
   "cell_type": "code",
   "execution_count": null,
   "metadata": {},
   "outputs": [],
   "source": [
    "!pip install msgpack scikit-tda\n",
    "# github here: https://scikit-tda.org"
   ]
  },
  {
   "cell_type": "code",
   "execution_count": null,
   "metadata": {},
   "outputs": [],
   "source": [
    "!pip install dionysus\n",
    "#troubleshooting here: http://mrzv.org/software/dionysus2/"
   ]
  }
 ],
 "metadata": {
  "kernelspec": {
   "display_name": "Python 3",
   "language": "python",
   "name": "python3"
  },
  "language_info": {
   "codemirror_mode": {
    "name": "ipython",
    "version": 3
   },
   "file_extension": ".py",
   "mimetype": "text/x-python",
   "name": "python",
   "nbconvert_exporter": "python",
   "pygments_lexer": "ipython3",
   "version": "3.6.6"
  }
 },
 "nbformat": 4,
 "nbformat_minor": 2
}
