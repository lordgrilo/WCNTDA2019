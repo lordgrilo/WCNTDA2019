{
 "cells": [
  {
   "cell_type": "code",
   "execution_count": 1,
   "metadata": {},
   "outputs": [],
   "source": [
    "%config InlineBackend.figure_format = 'retina'\n",
    "%matplotlib inline "
   ]
  },
  {
   "cell_type": "code",
   "execution_count": 6,
   "metadata": {},
   "outputs": [],
   "source": [
    "import numpy as np\n",
    "import matplotlib.pyplot as plt\n",
    "import networkx as nx\n",
    "import pandas as pd"
   ]
  },
  {
   "cell_type": "code",
   "execution_count": null,
   "metadata": {},
   "outputs": [],
   "source": [
    "SC = {}\n",
    " \n",
    "def make_pdf(n):\n",
    "    \"\"\"Return a Dobinski probability p(k) := k^n/(k!eB_n).\"\"\"\n",
    "    def pdf(k):\n",
    "        numer = power(k, n)\n",
    "        denom = factorial(k) * e * bell(n)\n",
    "        return numer / denom\n",
    "    return pdf\n",
    " \n",
    "def make_cdf(pdf):\n",
    "    \"\"\"Return cumulative probability function for pdf.\"\"\"\n",
    "    def cdf(k):\n",
    "        return sum(pdf(j) for j in xrange(k+1))\n",
    "    return cdf\n",
    " \n",
    "def find_interval(u, cdf):\n",
    "    \"\"\"Find k such that u falls in I_k of given cdf.\"\"\"\n",
    "    k = 1\n",
    "    while True:\n",
    "        (left, right) = (cdf(k-1), cdf(k))\n",
    "        if left &lt; u &lt;= right:\n",
    "            return k\n",
    "        k += 1\n",
    " \n",
    "def simulate(cdf, rng):\n",
    "    \"\"\"Simulate from pdf using rng::numpy.random.RandomState.\"\"\"\n",
    "    u = rng.uniform()\n",
    "    return find_interval(u, cdf)"
   ]
  }
 ],
 "metadata": {
  "kernelspec": {
   "display_name": "Python 3",
   "language": "python",
   "name": "python3"
  },
  "language_info": {
   "codemirror_mode": {
    "name": "ipython",
    "version": 3
   },
   "file_extension": ".py",
   "mimetype": "text/x-python",
   "name": "python",
   "nbconvert_exporter": "python",
   "pygments_lexer": "ipython3",
   "version": "3.6.8"
  }
 },
 "nbformat": 4,
 "nbformat_minor": 2
}
